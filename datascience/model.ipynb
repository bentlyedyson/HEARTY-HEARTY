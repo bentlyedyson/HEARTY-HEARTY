{
 "cells": [
  {
   "cell_type": "markdown",
   "metadata": {},
   "source": [
    "This notebook is responsible for the training of the prediction of the SCP\n",
    "codes model."
   ]
  },
  {
   "cell_type": "code",
   "execution_count": 1,
   "metadata": {},
   "outputs": [],
   "source": [
    "import pandas as pd\n",
    "import numpy as np\n",
    "import pickle\n",
    "import wfdb\n",
    "import os\n",
    "from ast import literal_eval\n",
    "import matplotlib.pyplot as plt\n",
    "from tqdm import tqdm\n",
    "from sklearn.utils import shuffle"
   ]
  },
  {
   "cell_type": "markdown",
   "metadata": {},
   "source": [
    "This dataset already includes a \"strat_fold\" column, already created by the\n",
    "authors so the training data is already chosen by the authors and not randomly\n",
    "and produce unwanted biases"
   ]
  },
  {
   "cell_type": "code",
   "execution_count": 2,
   "metadata": {},
   "outputs": [
    {
     "name": "stdout",
     "output_type": "stream",
     "text": [
      "<class 'pandas.core.frame.DataFrame'>\n",
      "Int64Index: 21837 entries, 1 to 21837\n",
      "Data columns (total 3 columns):\n",
      " #   Column       Non-Null Count  Dtype \n",
      "---  ------       --------------  ----- \n",
      " 0   scp_codes    21837 non-null  object\n",
      " 1   strat_fold   21837 non-null  int64 \n",
      " 2   filename_lr  21837 non-null  object\n",
      "dtypes: int64(1), object(2)\n",
      "memory usage: 682.4+ KB\n"
     ]
    }
   ],
   "source": [
    "# Dataset directory\n",
    "ptb_dir = \"ptb-xl-a-large-publicly-available-electrocardiography-dataset-1.0.1/\"\n",
    "\n",
    "# Whether to use the high or low resolution dataset\n",
    "lowres = True\n",
    "filetype = \"filename_\" + (\"lr\" if lowres else \"hr\")\n",
    "\n",
    "# Loads the dataset with only the scp codes, strat fold and the filename\n",
    "df = pd.read_csv(ptb_dir+\"ptbxl_database.csv\", index_col=[\"ecg_id\"], usecols=[\"ecg_id\", \"scp_codes\", \"strat_fold\", filetype])\n",
    "df.info()"
   ]
  },
  {
   "cell_type": "code",
   "execution_count": 3,
   "metadata": {},
   "outputs": [
    {
     "data": {
      "text/html": [
       "<div>\n",
       "<style scoped>\n",
       "    .dataframe tbody tr th:only-of-type {\n",
       "        vertical-align: middle;\n",
       "    }\n",
       "\n",
       "    .dataframe tbody tr th {\n",
       "        vertical-align: top;\n",
       "    }\n",
       "\n",
       "    .dataframe thead th {\n",
       "        text-align: right;\n",
       "    }\n",
       "</style>\n",
       "<table border=\"1\" class=\"dataframe\">\n",
       "  <thead>\n",
       "    <tr style=\"text-align: right;\">\n",
       "      <th></th>\n",
       "      <th>scp_codes</th>\n",
       "      <th>strat_fold</th>\n",
       "      <th>filename_lr</th>\n",
       "    </tr>\n",
       "    <tr>\n",
       "      <th>ecg_id</th>\n",
       "      <th></th>\n",
       "      <th></th>\n",
       "      <th></th>\n",
       "    </tr>\n",
       "  </thead>\n",
       "  <tbody>\n",
       "    <tr>\n",
       "      <th>1</th>\n",
       "      <td>{'NORM': 100.0, 'LVOLT': 0.0, 'SR': 0.0}</td>\n",
       "      <td>3</td>\n",
       "      <td>records100/00000/00001_lr</td>\n",
       "    </tr>\n",
       "    <tr>\n",
       "      <th>2</th>\n",
       "      <td>{'NORM': 80.0, 'SBRAD': 0.0}</td>\n",
       "      <td>2</td>\n",
       "      <td>records100/00000/00002_lr</td>\n",
       "    </tr>\n",
       "    <tr>\n",
       "      <th>3</th>\n",
       "      <td>{'NORM': 100.0, 'SR': 0.0}</td>\n",
       "      <td>5</td>\n",
       "      <td>records100/00000/00003_lr</td>\n",
       "    </tr>\n",
       "    <tr>\n",
       "      <th>4</th>\n",
       "      <td>{'NORM': 100.0, 'SR': 0.0}</td>\n",
       "      <td>3</td>\n",
       "      <td>records100/00000/00004_lr</td>\n",
       "    </tr>\n",
       "    <tr>\n",
       "      <th>5</th>\n",
       "      <td>{'NORM': 100.0, 'SR': 0.0}</td>\n",
       "      <td>4</td>\n",
       "      <td>records100/00000/00005_lr</td>\n",
       "    </tr>\n",
       "  </tbody>\n",
       "</table>\n",
       "</div>"
      ],
      "text/plain": [
       "                                       scp_codes  strat_fold  \\\n",
       "ecg_id                                                         \n",
       "1       {'NORM': 100.0, 'LVOLT': 0.0, 'SR': 0.0}           3   \n",
       "2                   {'NORM': 80.0, 'SBRAD': 0.0}           2   \n",
       "3                     {'NORM': 100.0, 'SR': 0.0}           5   \n",
       "4                     {'NORM': 100.0, 'SR': 0.0}           3   \n",
       "5                     {'NORM': 100.0, 'SR': 0.0}           4   \n",
       "\n",
       "                      filename_lr  \n",
       "ecg_id                             \n",
       "1       records100/00000/00001_lr  \n",
       "2       records100/00000/00002_lr  \n",
       "3       records100/00000/00003_lr  \n",
       "4       records100/00000/00004_lr  \n",
       "5       records100/00000/00005_lr  "
      ]
     },
     "execution_count": 3,
     "metadata": {},
     "output_type": "execute_result"
    }
   ],
   "source": [
    "df.head()"
   ]
  },
  {
   "cell_type": "markdown",
   "metadata": {},
   "source": [
    "# Here we process the scp_codes into multilabel array"
   ]
  },
  {
   "cell_type": "code",
   "execution_count": 4,
   "metadata": {},
   "outputs": [
    {
     "name": "stdout",
     "output_type": "stream",
     "text": [
      "<class 'pandas.core.frame.DataFrame'>\n",
      "Index: 71 entries, NDT to TRIGU\n",
      "Data columns (total 12 columns):\n",
      " #   Column                         Non-Null Count  Dtype  \n",
      "---  ------                         --------------  -----  \n",
      " 0   description                    71 non-null     object \n",
      " 1   diagnostic                     44 non-null     float64\n",
      " 2   form                           19 non-null     float64\n",
      " 3   rhythm                         12 non-null     float64\n",
      " 4   diagnostic_class               44 non-null     object \n",
      " 5   diagnostic_subclass            44 non-null     object \n",
      " 6   Statement Category             71 non-null     object \n",
      " 7   SCP-ECG Statement Description  71 non-null     object \n",
      " 8   AHA code                       37 non-null     float64\n",
      " 9   aECG REFID                     23 non-null     object \n",
      " 10  CDISC Code                     13 non-null     object \n",
      " 11  DICOM Code                     13 non-null     object \n",
      "dtypes: float64(4), object(8)\n",
      "memory usage: 7.2+ KB\n"
     ]
    }
   ],
   "source": [
    "# Reads the scp csv file with the category as index\n",
    "scp_df = pd.read_csv(ptb_dir+'scp_statements.csv', index_col=0)\n",
    "scp_df.info()"
   ]
  },
  {
   "cell_type": "code",
   "execution_count": 5,
   "metadata": {},
   "outputs": [
    {
     "data": {
      "text/html": [
       "<div>\n",
       "<style scoped>\n",
       "    .dataframe tbody tr th:only-of-type {\n",
       "        vertical-align: middle;\n",
       "    }\n",
       "\n",
       "    .dataframe tbody tr th {\n",
       "        vertical-align: top;\n",
       "    }\n",
       "\n",
       "    .dataframe thead th {\n",
       "        text-align: right;\n",
       "    }\n",
       "</style>\n",
       "<table border=\"1\" class=\"dataframe\">\n",
       "  <thead>\n",
       "    <tr style=\"text-align: right;\">\n",
       "      <th></th>\n",
       "      <th>scp_codes</th>\n",
       "      <th>strat_fold</th>\n",
       "      <th>filename_lr</th>\n",
       "      <th>result</th>\n",
       "      <th>superclass</th>\n",
       "    </tr>\n",
       "    <tr>\n",
       "      <th>ecg_id</th>\n",
       "      <th></th>\n",
       "      <th></th>\n",
       "      <th></th>\n",
       "      <th></th>\n",
       "      <th></th>\n",
       "    </tr>\n",
       "  </thead>\n",
       "  <tbody>\n",
       "    <tr>\n",
       "      <th>1</th>\n",
       "      <td>{'NORM': 100.0, 'LVOLT': 0.0, 'SR': 0.0}</td>\n",
       "      <td>3</td>\n",
       "      <td>records100/00000/00001_lr</td>\n",
       "      <td>[0, 0, 0, 1, 0]</td>\n",
       "      <td>NORM</td>\n",
       "    </tr>\n",
       "    <tr>\n",
       "      <th>2</th>\n",
       "      <td>{'NORM': 80.0, 'SBRAD': 0.0}</td>\n",
       "      <td>2</td>\n",
       "      <td>records100/00000/00002_lr</td>\n",
       "      <td>[0, 0, 0, 1, 0]</td>\n",
       "      <td>NORM</td>\n",
       "    </tr>\n",
       "    <tr>\n",
       "      <th>3</th>\n",
       "      <td>{'NORM': 100.0, 'SR': 0.0}</td>\n",
       "      <td>5</td>\n",
       "      <td>records100/00000/00003_lr</td>\n",
       "      <td>[0, 0, 0, 1, 0]</td>\n",
       "      <td>NORM</td>\n",
       "    </tr>\n",
       "    <tr>\n",
       "      <th>4</th>\n",
       "      <td>{'NORM': 100.0, 'SR': 0.0}</td>\n",
       "      <td>3</td>\n",
       "      <td>records100/00000/00004_lr</td>\n",
       "      <td>[0, 0, 0, 1, 0]</td>\n",
       "      <td>NORM</td>\n",
       "    </tr>\n",
       "    <tr>\n",
       "      <th>5</th>\n",
       "      <td>{'NORM': 100.0, 'SR': 0.0}</td>\n",
       "      <td>4</td>\n",
       "      <td>records100/00000/00005_lr</td>\n",
       "      <td>[0, 0, 0, 1, 0]</td>\n",
       "      <td>NORM</td>\n",
       "    </tr>\n",
       "  </tbody>\n",
       "</table>\n",
       "</div>"
      ],
      "text/plain": [
       "                                       scp_codes  strat_fold  \\\n",
       "ecg_id                                                         \n",
       "1       {'NORM': 100.0, 'LVOLT': 0.0, 'SR': 0.0}           3   \n",
       "2                   {'NORM': 80.0, 'SBRAD': 0.0}           2   \n",
       "3                     {'NORM': 100.0, 'SR': 0.0}           5   \n",
       "4                     {'NORM': 100.0, 'SR': 0.0}           3   \n",
       "5                     {'NORM': 100.0, 'SR': 0.0}           4   \n",
       "\n",
       "                      filename_lr           result superclass  \n",
       "ecg_id                                                         \n",
       "1       records100/00000/00001_lr  [0, 0, 0, 1, 0]       NORM  \n",
       "2       records100/00000/00002_lr  [0, 0, 0, 1, 0]       NORM  \n",
       "3       records100/00000/00003_lr  [0, 0, 0, 1, 0]       NORM  \n",
       "4       records100/00000/00004_lr  [0, 0, 0, 1, 0]       NORM  \n",
       "5       records100/00000/00005_lr  [0, 0, 0, 1, 0]       NORM  "
      ]
     },
     "execution_count": 5,
     "metadata": {},
     "output_type": "execute_result"
    }
   ],
   "source": [
    "# Convert json string as python object\n",
    "scp_codes = df[\"scp_codes\"].apply(lambda x : literal_eval(x))\n",
    "\n",
    "def all_class():\n",
    "  scp_length = len(scp_df)\n",
    "  \n",
    "  def create_multilabel(scpc: dict):\n",
    "    # Create empty list with the length of scp\n",
    "    res = [ 0 for _ in range(scp_length) ]\n",
    "    \n",
    "    for x, y in scpc.items():\n",
    "      # If the confidence is below 50%, ditch it.\n",
    "      # if (y > 50):\n",
    "      # ! This part\n",
    "      res[scp_df.index.get_loc(x)] = 1\n",
    "      \n",
    "    return res\n",
    "  \n",
    "  # For every scp_codes in df, we will create a new mutlilabel 2d array\n",
    "  # New column\n",
    "  df[\"result\"] = scp_codes.apply(create_multilabel)\n",
    "  \n",
    "  return scp_length\n",
    "\n",
    "def super_class():\n",
    "  super_list = list(set(scp_df[\"diagnostic_class\"]))\n",
    "  super_list.remove(np.nan)\n",
    "  scp_length = len(super_list)\n",
    "  \n",
    "  def create_superclass(scpc: dict):\n",
    "    # Create empty list with the length of scp\n",
    "    res = [ 0 for _ in range(scp_length) ]\n",
    "    \n",
    "    for x, y in scpc.items():\n",
    "      # If the confidence is below 50%, ditch it.\n",
    "      # if (y > 50):\n",
    "      try:\n",
    "        res[super_list.index(scp_df.loc[x][\"diagnostic_class\"])] = 1\n",
    "        return res\n",
    "      except ValueError:\n",
    "        pass\n",
    "      \n",
    "    return res\n",
    "  \n",
    "  def create_superclass_label(scpc: dict):\n",
    "    # Gets the superclass as string\n",
    "    for x, y in scpc.items():\n",
    "      try:\n",
    "        diag = scp_df.loc[x][\"diagnostic_class\"]\n",
    "        super_list.index(diag)\n",
    "        return diag\n",
    "      except ValueError:\n",
    "        pass\n",
    "\n",
    "    return None\n",
    "  \n",
    "  # For every scp_codes in df, we will create a new mutlilabel 2d array\n",
    "  # New column\n",
    "  df[\"result\"] = scp_codes.apply(create_superclass)\n",
    "  df[\"superclass\"] = scp_codes.apply(create_superclass_label)\n",
    "  \n",
    "  return scp_length\n",
    "\n",
    "# How many scp categories are there, and filters the data\n",
    "scp_length = super_class()\n",
    "\n",
    "df.head()"
   ]
  },
  {
   "cell_type": "code",
   "execution_count": 6,
   "metadata": {},
   "outputs": [
    {
     "data": {
      "text/plain": [
       "ecg_id\n",
       "1    True\n",
       "2    True\n",
       "3    True\n",
       "4    True\n",
       "5    True\n",
       "Name: scp_codes, dtype: bool"
      ]
     },
     "execution_count": 6,
     "metadata": {},
     "output_type": "execute_result"
    }
   ],
   "source": [
    "def apply_superdiagnostic(scpc: dict):\n",
    "  for x in scpc.keys():\n",
    "    if scp_df.loc[x].diagnostic == 1.0:\n",
    "      return True\n",
    "  return False\n",
    "\n",
    "super_bool = scp_codes.apply(apply_superdiagnostic)\n",
    "super_bool.head()"
   ]
  },
  {
   "cell_type": "code",
   "execution_count": 7,
   "metadata": {},
   "outputs": [
    {
     "name": "stdout",
     "output_type": "stream",
     "text": [
      "Loading saved raw dataset\n"
     ]
    },
    {
     "name": "stderr",
     "output_type": "stream",
     "text": [
      "Applying PTB Standardizer: 100%|██████████| 21837/21837 [00:04<00:00, 5021.68it/s]\n"
     ]
    }
   ],
   "source": [
    "from sklearn.preprocessing import StandardScaler\n",
    "\n",
    "def get_standardizer(X):\n",
    "  \"\"\"Creates a standardizer\n",
    "  Args:\n",
    "      X (data): Must be raw\n",
    "  Returns:\n",
    "      StandardScaler: Scaler for dataset\n",
    "  \"\"\"\n",
    "  if os.path.exists(\"datasetcache/standardizer.pkl\"):\n",
    "    return pickle.load(open(\"datasetcache/standardizer.pkl\", \"rb\"))\n",
    "  else:\n",
    "    # Fit data to standardizer\n",
    "    X_scaler = StandardScaler()\n",
    "    X_scaler.fit(np.vstack(X).flatten()[:,np.newaxis].astype(float))\n",
    "    \n",
    "    # Save file\n",
    "    pickle.dump(X_scaler, open(\"datasetcache/standardizer.pkl\", \"wb\"), 4)\n",
    "    \n",
    "    return X_scaler\n",
    "\n",
    "def apply_standardizer(X, ss):\n",
    "    X_tmp = []\n",
    "    for x in tqdm(X, \"Applying PTB Standardizer\"):\n",
    "        x_shape = x.shape\n",
    "        X_tmp.append(ss.transform(x.flatten()[:,np.newaxis]).reshape(x_shape))\n",
    "    X_tmp = np.array(X_tmp)\n",
    "    return X_tmp\n",
    "\n",
    "def load_waveforms():\n",
    "  \"\"\"Loads the low or high resolution waveform data according to the `lowres`\n",
    "  variable. The function iterates through the dataset and reads every file with\n",
    "  rdsamp. Rdsamp returns a tuple (signal, meta), therefore to get the signal,\n",
    "  [0] is needed after the function\n",
    "\n",
    "  Returns:\n",
    "      array: array of array with a dimension of `12x10*frequency` (100Hz / 500Hz\n",
    "      depending on `lowres` variable)\n",
    "  \"\"\"\n",
    "  data = None\n",
    "  if os.path.exists(\"datasetcache/raw100.npy\"):\n",
    "    print(\"Loading saved raw dataset\")\n",
    "    data = np.load(\"datasetcache/raw100.npy\", allow_pickle=True)\n",
    "  else:\n",
    "    # Load raw data\n",
    "    # data = np.array([ wfdb.rdsamp(ptb_dir+f)[0] for f in tqdm(df[filetype], \"Loading Waveform\") ])\n",
    "    data = np.array([ np.array([ pd.Series(wave) for wave in wfdb.rdsamp(ptb_dir+f)[0] ]) for f in tqdm(df[filetype], \"Loading Waveform\") ])\n",
    "    pickle.dump(data, open(\"datasetcache/raw100.npy\", \"wb\"), 4)\n",
    "\n",
    "  # Scale data\n",
    "  X_scaler = get_standardizer(data)\n",
    "  data = apply_standardizer(data, X_scaler)\n",
    "  \n",
    "  # Transform data\n",
    "  # Transpose\n",
    "  data = np.transpose(data, (0, 2, 1)) # ! Transpose experiment\n",
    "\n",
    "  return data, X_scaler\n",
    "\n",
    "# Loads all the waveform data\n",
    "X, X_scaler = load_waveforms()"
   ]
  },
  {
   "cell_type": "code",
   "execution_count": 8,
   "metadata": {},
   "outputs": [
    {
     "data": {
      "image/png": "[encoded data removed]",
      "text/plain": [
       "<Figure size 432x288 with 1 Axes>"
      ]
     },
     "metadata": {
      "needs_background": "light"
     },
     "output_type": "display_data"
    }
   ],
   "source": [
    "plt.clf()\n",
    "plt.plot(X[10][0])\n",
    "plt.savefig(\"datasetcache/test.png\")\n",
    "plt.show()"
   ]
  },
  {
   "cell_type": "code",
   "execution_count": 9,
   "metadata": {},
   "outputs": [
    {
     "name": "stdout",
     "output_type": "stream",
     "text": [
      "21837 21837\n"
     ]
    }
   ],
   "source": [
    "# Gets the Y of the dataset\n",
    "Y = df\n",
    "print(len(X), len(Y))"
   ]
  },
  {
   "cell_type": "code",
   "execution_count": 10,
   "metadata": {},
   "outputs": [
    {
     "name": "stdout",
     "output_type": "stream",
     "text": [
      "21430 21430\n"
     ]
    }
   ],
   "source": [
    "# Selects only super diagnostics\n",
    "X, Y = X[super_bool], Y[super_bool]\n",
    "print(len(X), len(Y))"
   ]
  },
  {
   "cell_type": "code",
   "execution_count": 11,
   "metadata": {},
   "outputs": [
    {
     "name": "stdout",
     "output_type": "stream",
     "text": [
      "19267 19267 2163 2163\n",
      "(19267, 12, 1000) (19267, 5) (2163, 12, 1000) (2163, 5)\n"
     ]
    }
   ],
   "source": [
    "# Splits the dataset into training and testing based on the strat_fold\n",
    "# the dataset has graciously provided us\n",
    "\n",
    "# Select which fold we want to use\n",
    "test_fold = 10\n",
    "train_sel = Y[\"strat_fold\"] != test_fold\n",
    "test_sel = Y[\"strat_fold\"] == test_fold\n",
    "\n",
    "# Splits the data\n",
    "# !!!!!!!!! It is very, very important to use np.where for numpy arrays.\n",
    "# !!!!!!!!! Lost almost 2 weeks because of this\n",
    "X_tr = X[np.where(train_sel)]\n",
    "Y_tr = np.array(Y[train_sel].result.to_list()).astype(\"float32\")\n",
    "Y_tr_l = Y[train_sel].superclass.to_numpy()\n",
    "\n",
    "X_te = X[np.where(test_sel)]\n",
    "Y_te = np.array(Y[test_sel].result.to_list()).astype(\"float32\")\n",
    "Y_te_l = Y[test_sel].superclass.to_numpy()\n",
    "\n",
    "X_tr, Y_tr = shuffle(X_tr, Y_tr, random_state=35137)\n",
    "\n",
    "print(len(X_tr), len(Y_tr), len(X_te), len(Y_te))\n",
    "print(X_tr.shape, Y_tr.shape, X_te.shape, Y_te.shape)"
   ]
  },
  {
   "cell_type": "code",
   "execution_count": 12,
   "metadata": {},
   "outputs": [
    {
     "data": {
      "text/plain": [
       "({'CD', 'HYP', 'MI', 'NORM', 'STTC'},\n",
       " array(['NORM', 'NORM', 'NORM', 'NORM', 'NORM', 'NORM', 'NORM', 'MI',\n",
       "        'NORM', 'NORM', 'NORM', 'NORM', 'NORM', 'NORM', 'NORM', 'NORM',\n",
       "        'NORM', 'STTC', 'NORM', 'NORM', 'STTC', 'NORM', 'STTC', 'NORM',\n",
       "        'HYP', 'NORM', 'CD', 'NORM', 'NORM', 'NORM'], dtype=object))"
      ]
     },
     "execution_count": 12,
     "metadata": {},
     "output_type": "execute_result"
    }
   ],
   "source": [
    "set(Y_tr_l), Y_tr_l[:30]"
   ]
  },
  {
   "cell_type": "markdown",
   "metadata": {},
   "source": [
    "## From this point, we can do the model training"
   ]
  },
  {
   "cell_type": "code",
   "execution_count": 13,
   "metadata": {},
   "outputs": [],
   "source": [
    "# Load the model with tensorflow\n",
    "import tensorflow as tf\n",
    "from sklearn.linear_model import RidgeClassifierCV\n",
    "import MiniRocket.minirocket_multivariate as MiniRocket\n",
    "from sklearn.pipeline import Pipeline\n",
    "from sklearn.metrics import accuracy_score"
   ]
  },
  {
   "cell_type": "code",
   "execution_count": 14,
   "metadata": {},
   "outputs": [],
   "source": [
    "epochs = 10\n",
    "batch_size = 64\n",
    "\n",
    "def fit_efficient():\n",
    "  \"\"\"Efficient Net model fitting\n",
    "  \"\"\"\n",
    "  from models import efficient_net\n",
    "  model = efficient_net(scp_length)\n",
    "  \n",
    "  # Reshape the data so it can be inputted\n",
    "  X_tr_r = X_tr.reshape((len(X_tr), 100, 120))\n",
    "  X_te_r = X_te.reshape((len(X_te), 100, 120))\n",
    "  \n",
    "  model.fit(\n",
    "    X_tr_r,\n",
    "    Y_tr,\n",
    "    epochs=epochs,\n",
    "    batch_size=batch_size,\n",
    "  )\n",
    "  \n",
    "  return model, X_te_r\n",
    "\n",
    "def fit_inception():\n",
    "  from Inception.inception import Classifier_INCEPTION as Inception\n",
    "  from tensorflow.keras.callbacks import EarlyStopping, Callback\n",
    "  \n",
    "  in_model = Inception(\n",
    "    \"/inceptionres\",\n",
    "    X.shape[1:],\n",
    "    scp_length,\n",
    "  )\n",
    "  model = in_model.model\n",
    "  \n",
    "  metrics = {}\n",
    "  class MetricCollector(Callback):\n",
    "    def on_epoch_end(self, epoch, logs={}):\n",
    "        for key, val in logs.items():\n",
    "          if key not in metrics:\n",
    "            metrics[key] = [val]\n",
    "          else:\n",
    "            metrics[key].append(val)\n",
    "  \n",
    "  model.fit(\n",
    "    X_tr,\n",
    "    Y_tr,\n",
    "    batch_size=batch_size,\n",
    "    epochs=epochs,\n",
    "    validation_split=0.1,\n",
    "    callbacks=[\n",
    "      MetricCollector(),\n",
    "      in_model.callbacks[0], # Get only reduce learning rate\n",
    "    #   EarlyStopping( # Stop if the val loss is not that big\n",
    "    #     monitor= \"val_loss\",\n",
    "    #     min_delta = 0.1,\n",
    "    #     patience = 3,\n",
    "    #   )\n",
    "    ],\n",
    "  )\n",
    "  \n",
    "  return model, metrics\n",
    "\n",
    "def fit_mini_rocket():\n",
    "  X_tr32 = X_tr.astype(\"float32\")\n",
    "  params = MiniRocket.fit(X_tr32)\n",
    "  X_tr_trans = MiniRocket.transform(X_tr32, params)\n",
    "  \n",
    "  Y_tr32 = Y_tr.astype(\"float32\")\n",
    "  \n",
    "  print(Y_tr32[0])\n",
    "  \n",
    "  # IMPORTANT! In sklearn version 1.0.1, there is a bug in RidgeClassifierCV\n",
    "  # that makes it unable to process multilabel targets, even though such\n",
    "  # operations are said to be supported in the docs. To fix this, one must use\n",
    "  # The nightly build of sklearn.\n",
    "  classifier = RidgeClassifierCV(alphas=np.logspace(-3, 3, 10), normalize=True)\n",
    "  classifier.fit(X_tr_trans, Y_tr32)\n",
    "  \n",
    "  return classifier, params\n",
    "\n",
    "def fit_forest():\n",
    "  from sktime.classification.interval_based import TimeSeriesForestClassifier\n",
    "  from sktime.transformations.panel.compose import ColumnConcatenator\n",
    "  \n",
    "  # Combines multivariate data into one long one\n",
    "  classifier = Pipeline([\n",
    "    (\"concatenate\", ColumnConcatenator()),\n",
    "    (\"classify\", TimeSeriesForestClassifier(n_estimators=1, n_jobs=4, random_state=1314))\n",
    "  ])\n",
    "  \n",
    "  classifier.fit(X_tr, Y_tr)\n",
    "  return classifier"
   ]
  },
  {
   "cell_type": "code",
   "execution_count": 15,
   "metadata": {},
   "outputs": [
    {
     "data": {
      "text/plain": [
       "(numpy.ndarray, numpy.ndarray, (19267, 12, 1000), (19267, 5))"
      ]
     },
     "execution_count": 15,
     "metadata": {},
     "output_type": "execute_result"
    }
   ],
   "source": [
    "type(X_tr), type(Y_tr), X_tr.shape, Y_tr.shape"
   ]
  },
  {
   "cell_type": "code",
   "execution_count": null,
   "metadata": {},
   "outputs": [],
   "source": [
    "model2 = fit_forest()"
   ]
  },
  {
   "cell_type": "code",
   "execution_count": null,
   "metadata": {},
   "outputs": [],
   "source": [
    "model2.score(X_te, Y_te)"
   ]
  },
  {
   "cell_type": "code",
   "execution_count": null,
   "metadata": {},
   "outputs": [],
   "source": [
    "model2.score(X_tr, Y_tr)"
   ]
  },
  {
   "cell_type": "code",
   "execution_count": null,
   "metadata": {},
   "outputs": [],
   "source": [
    "pickle.dump(model2, open(\"datasetcache/forest1.pkl\", \"wb\"), 4)"
   ]
  },
  {
   "cell_type": "code",
   "execution_count": 16,
   "metadata": {},
   "outputs": [
    {
     "name": "stdout",
     "output_type": "stream",
     "text": [
      "Bruh\n",
      "Epoch 1/10\n",
      "271/271 [==============================] - 30s 77ms/step - loss: 1.4751 - accuracy: 0.4038 - val_loss: 1.3812 - val_accuracy: 0.4395 - lr: 0.0010\n",
      "Epoch 2/10\n",
      "271/271 [==============================] - 20s 75ms/step - loss: 1.3413 - accuracy: 0.4618 - val_loss: 1.3338 - val_accuracy: 0.4645 - lr: 0.0010\n",
      "Epoch 3/10\n",
      "271/271 [==============================] - 22s 81ms/step - loss: 1.2849 - accuracy: 0.4841 - val_loss: 1.3329 - val_accuracy: 0.4702 - lr: 0.0010\n",
      "Epoch 4/10\n",
      "271/271 [==============================] - 24s 89ms/step - loss: 1.2307 - accuracy: 0.5112 - val_loss: 1.3082 - val_accuracy: 0.4779 - lr: 0.0010\n",
      "Epoch 5/10\n",
      "271/271 [==============================] - 24s 89ms/step - loss: 1.1744 - accuracy: 0.5395 - val_loss: 1.2901 - val_accuracy: 0.4951 - lr: 0.0010\n",
      "Epoch 6/10\n",
      "271/271 [==============================] - 24s 88ms/step - loss: 1.1072 - accuracy: 0.5740 - val_loss: 1.3116 - val_accuracy: 0.5008 - lr: 0.0010\n",
      "Epoch 7/10\n",
      "271/271 [==============================] - 23s 85ms/step - loss: 1.0308 - accuracy: 0.6107 - val_loss: 1.3110 - val_accuracy: 0.5075 - lr: 0.0010\n",
      "Epoch 8/10\n",
      "271/271 [==============================] - 22s 80ms/step - loss: 0.9435 - accuracy: 0.6477 - val_loss: 1.2884 - val_accuracy: 0.5023 - lr: 0.0010\n",
      "Epoch 9/10\n",
      "271/271 [==============================] - 17s 64ms/step - loss: 0.8445 - accuracy: 0.6933 - val_loss: 1.3255 - val_accuracy: 0.5138 - lr: 0.0010\n",
      "Epoch 10/10\n",
      "271/271 [==============================] - 18s 68ms/step - loss: 0.7324 - accuracy: 0.7399 - val_loss: 1.4114 - val_accuracy: 0.4852 - lr: 0.0010\n"
     ]
    }
   ],
   "source": [
    "model3, metrics3 = fit_inception()"
   ]
  },
  {
   "cell_type": "code",
   "execution_count": 41,
   "metadata": {},
   "outputs": [
    {
     "data": {
      "text/plain": [
       "(0.5339805825242718, 0.6159675)"
      ]
     },
     "execution_count": 41,
     "metadata": {},
     "output_type": "execute_result"
    }
   ],
   "source": [
    "# Calculate test dataset for inception model\n",
    "pred3 = model3.predict(X_te)\n",
    "pred3 = np.array([ [ (1. if i==x else 0.) for i in range(scp_length) ] for x in np.argmax(pred3, axis=1) ])\n",
    "\n",
    "total = 0\n",
    "for x, y in zip(pred3, Y_te):\n",
    "  total += 1 if np.array_equal(x, y) else 0\n",
    "  \n",
    "m = tf.keras.metrics.AUC(multi_label=True, thresholds=[0, 0.5])\n",
    "\n",
    "total/len(pred3), m(Y_te, pred3).numpy()"
   ]
  },
  {
   "cell_type": "code",
   "execution_count": 27,
   "metadata": {},
   "outputs": [
    {
     "name": "stderr",
     "output_type": "stream",
     "text": [
      "C:\\Users\\nakam\\AppData\\Local\\Temp/ipykernel_6340/194684387.py:6: UserWarning: Matplotlib is currently using agg, which is a non-GUI backend, so cannot show the figure.\n",
      "  plt.show()\n"
     ]
    },
    {
     "data": {
      "image/png": "[encoded data removed]",
      "text/plain": [
       "<Figure size 432x288 with 1 Axes>"
      ]
     },
     "metadata": {
      "needs_background": "light"
     },
     "output_type": "display_data"
    }
   ],
   "source": [
    "plt.clf()\n",
    "plt.plot(metrics3[\"accuracy\"], c=\"blue\", label=\"Accuracy\", alpha=0.6)\n",
    "plt.plot(metrics3[\"val_accuracy\"], c=\"violet\", label=\"Val Accuracy\", alpha=0.6)\n",
    "plt.xlabel(f\"Epoch ({epochs}), bs: {batch_size}\")\n",
    "plt.legend()\n",
    "plt.show()"
   ]
  },
  {
   "cell_type": "code",
   "execution_count": null,
   "metadata": {},
   "outputs": [],
   "source": [
    "model, params = fit_mini_rocket()"
   ]
  },
  {
   "cell_type": "code",
   "execution_count": null,
   "metadata": {},
   "outputs": [],
   "source": [
    "pred = model.predict(MiniRocket.transform(X_te.astype(\"float32\"), params))\n",
    "\n",
    "print(model.score(MiniRocket.transform(X_tr.astype(\"float32\"), params), Y_tr.astype(\"float32\")))\n",
    "print(model.score(MiniRocket.transform(X_te.astype(\"float32\"), params), Y_te.astype(\"float32\")))"
   ]
  },
  {
   "cell_type": "code",
   "execution_count": null,
   "metadata": {},
   "outputs": [],
   "source": [
    "pred = model.predict(MiniRocket.transform(X_te.astype(\"float32\"), params))"
   ]
  },
  {
   "cell_type": "code",
   "execution_count": null,
   "metadata": {},
   "outputs": [],
   "source": [
    "m = tf.keras.metrics.AUC(multi_label=True, thresholds=[0, 0.5])\n",
    "m(Y_te, pred).numpy()"
   ]
  },
  {
   "cell_type": "code",
   "execution_count": null,
   "metadata": {},
   "outputs": [],
   "source": [
    "total = 0\n",
    "pred = model.predict(MiniRocket.transform(X_te.astype(\"float32\"), params))\n",
    "for i in range(len(pred)):\n",
    "  # Bug workaround\n",
    "  total += 1 if accuracy_score(pred[i], Y_te[i]) == 1.0 else 0\n",
    "  \n",
    "print(total/len(X_te))"
   ]
  }
 ],
 "metadata": {
  "interpreter": {
   "hash": "2e646dbaa4b8076e76891b51135a1b213fdcfef07d664c773c9a5d1d6f83d144"
  },
  "kernelspec": {
   "display_name": "Python 3.8.1 64-bit (system)",
   "language": "python",
   "name": "python3"
  },
  "language_info": {
   "codemirror_mode": {
    "name": "ipython",
    "version": 3
   },
   "file_extension": ".py",
   "mimetype": "text/x-python",
   "name": "python",
   "nbconvert_exporter": "python",
   "pygments_lexer": "ipython3",
   "version": "3.8.1"
  },
  "orig_nbformat": 4
 },
 "nbformat": 4,
 "nbformat_minor": 2
}
