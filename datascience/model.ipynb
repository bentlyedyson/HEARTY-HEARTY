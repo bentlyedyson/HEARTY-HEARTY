{
 "cells": [
  {
   "cell_type": "markdown",
   "metadata": {},
   "source": [
    "This notebook is responsible for the training of the prediction of the SCP\n",
    "codes model."
   ]
  },
  {
   "cell_type": "code",
   "execution_count": 1,
   "metadata": {},
   "outputs": [],
   "source": [
    "import pandas as pd\n",
    "import numpy as np\n",
    "import wfdb\n",
    "from ast import literal_eval"
   ]
  },
  {
   "cell_type": "markdown",
   "metadata": {},
   "source": [
    "This dataset already includes a \"strat_fold\" column, already created by the\n",
    "authors so the training data is already chosen by the authors and not randomly\n",
    "and produce unwanted biases"
   ]
  },
  {
   "cell_type": "code",
   "execution_count": 2,
   "metadata": {},
   "outputs": [
    {
     "name": "stdout",
     "output_type": "stream",
     "text": [
      "<class 'pandas.core.frame.DataFrame'>\n",
      "Int64Index: 21837 entries, 1 to 21837\n",
      "Data columns (total 3 columns):\n",
      " #   Column       Non-Null Count  Dtype \n",
      "---  ------       --------------  ----- \n",
      " 0   scp_codes    21837 non-null  object\n",
      " 1   strat_fold   21837 non-null  int64 \n",
      " 2   filename_lr  21837 non-null  object\n",
      "dtypes: int64(1), object(2)\n",
      "memory usage: 682.4+ KB\n"
     ]
    }
   ],
   "source": [
    "# Dataset directory\n",
    "ptb_dir = \"ptb-xl-a-large-publicly-available-electrocardiography-dataset-1.0.1/\"\n",
    "\n",
    "# Whether to use the high or low resolution dataset\n",
    "lowres = True\n",
    "filetype = \"filename_\" + (\"lr\" if lowres else \"hr\")\n",
    "\n",
    "# Loads the dataset with only the scp codes, strat fold and the filename\n",
    "df = pd.read_csv(ptb_dir+\"ptbxl_database.csv\", index_col=[\"ecg_id\"], usecols=[\"ecg_id\", \"scp_codes\", \"strat_fold\", filetype])\n",
    "df.info()"
   ]
  },
  {
   "cell_type": "code",
   "execution_count": 3,
   "metadata": {},
   "outputs": [
    {
     "data": {
      "text/html": [
       "<div>\n",
       "<style scoped>\n",
       "    .dataframe tbody tr th:only-of-type {\n",
       "        vertical-align: middle;\n",
       "    }\n",
       "\n",
       "    .dataframe tbody tr th {\n",
       "        vertical-align: top;\n",
       "    }\n",
       "\n",
       "    .dataframe thead th {\n",
       "        text-align: right;\n",
       "    }\n",
       "</style>\n",
       "<table border=\"1\" class=\"dataframe\">\n",
       "  <thead>\n",
       "    <tr style=\"text-align: right;\">\n",
       "      <th></th>\n",
       "      <th>scp_codes</th>\n",
       "      <th>strat_fold</th>\n",
       "      <th>filename_lr</th>\n",
       "    </tr>\n",
       "    <tr>\n",
       "      <th>ecg_id</th>\n",
       "      <th></th>\n",
       "      <th></th>\n",
       "      <th></th>\n",
       "    </tr>\n",
       "  </thead>\n",
       "  <tbody>\n",
       "    <tr>\n",
       "      <th>1</th>\n",
       "      <td>{'NORM': 100.0, 'LVOLT': 0.0, 'SR': 0.0}</td>\n",
       "      <td>3</td>\n",
       "      <td>records100/00000/00001_lr</td>\n",
       "    </tr>\n",
       "    <tr>\n",
       "      <th>2</th>\n",
       "      <td>{'NORM': 80.0, 'SBRAD': 0.0}</td>\n",
       "      <td>2</td>\n",
       "      <td>records100/00000/00002_lr</td>\n",
       "    </tr>\n",
       "    <tr>\n",
       "      <th>3</th>\n",
       "      <td>{'NORM': 100.0, 'SR': 0.0}</td>\n",
       "      <td>5</td>\n",
       "      <td>records100/00000/00003_lr</td>\n",
       "    </tr>\n",
       "    <tr>\n",
       "      <th>4</th>\n",
       "      <td>{'NORM': 100.0, 'SR': 0.0}</td>\n",
       "      <td>3</td>\n",
       "      <td>records100/00000/00004_lr</td>\n",
       "    </tr>\n",
       "    <tr>\n",
       "      <th>5</th>\n",
       "      <td>{'NORM': 100.0, 'SR': 0.0}</td>\n",
       "      <td>4</td>\n",
       "      <td>records100/00000/00005_lr</td>\n",
       "    </tr>\n",
       "  </tbody>\n",
       "</table>\n",
       "</div>"
      ],
      "text/plain": [
       "                                       scp_codes  strat_fold  \\\n",
       "ecg_id                                                         \n",
       "1       {'NORM': 100.0, 'LVOLT': 0.0, 'SR': 0.0}           3   \n",
       "2                   {'NORM': 80.0, 'SBRAD': 0.0}           2   \n",
       "3                     {'NORM': 100.0, 'SR': 0.0}           5   \n",
       "4                     {'NORM': 100.0, 'SR': 0.0}           3   \n",
       "5                     {'NORM': 100.0, 'SR': 0.0}           4   \n",
       "\n",
       "                      filename_lr  \n",
       "ecg_id                             \n",
       "1       records100/00000/00001_lr  \n",
       "2       records100/00000/00002_lr  \n",
       "3       records100/00000/00003_lr  \n",
       "4       records100/00000/00004_lr  \n",
       "5       records100/00000/00005_lr  "
      ]
     },
     "execution_count": 3,
     "metadata": {},
     "output_type": "execute_result"
    }
   ],
   "source": [
    "df.head()"
   ]
  },
  {
   "cell_type": "code",
   "execution_count": 4,
   "metadata": {},
   "outputs": [],
   "source": [
    "def load_waveforms():\n",
    "  \"\"\"Loads the low or high resolution waveform data according to the `lowres`\n",
    "  variable. The function iterates through the dataset and reads every file with\n",
    "  rdsamp. Rdsamp returns a tuple (signal, meta), therefore to get the signal,\n",
    "  [0] is needed after the function\n",
    "\n",
    "  Returns:\n",
    "      array: array of array with a dimension of `12x10*frequency` (100Hz / 500Hz\n",
    "      depending on `lowres` variable)\n",
    "  \"\"\"\n",
    "  return np.array([ wfdb.rdsamp(ptb_dir+f)[0] for f in df[filetype] ])\n",
    "\n",
    "# Loads all the waveform data\n",
    "X = load_waveforms()"
   ]
  },
  {
   "cell_type": "markdown",
   "metadata": {},
   "source": [
    "# Here we process the scp_codes into multilabel array"
   ]
  },
  {
   "cell_type": "code",
   "execution_count": 5,
   "metadata": {},
   "outputs": [
    {
     "name": "stdout",
     "output_type": "stream",
     "text": [
      "<class 'pandas.core.frame.DataFrame'>\n",
      "Index: 71 entries, NDT to TRIGU\n",
      "Data columns (total 12 columns):\n",
      " #   Column                         Non-Null Count  Dtype  \n",
      "---  ------                         --------------  -----  \n",
      " 0   description                    71 non-null     object \n",
      " 1   diagnostic                     44 non-null     float64\n",
      " 2   form                           19 non-null     float64\n",
      " 3   rhythm                         12 non-null     float64\n",
      " 4   diagnostic_class               44 non-null     object \n",
      " 5   diagnostic_subclass            44 non-null     object \n",
      " 6   Statement Category             71 non-null     object \n",
      " 7   SCP-ECG Statement Description  71 non-null     object \n",
      " 8   AHA code                       37 non-null     float64\n",
      " 9   aECG REFID                     23 non-null     object \n",
      " 10  CDISC Code                     13 non-null     object \n",
      " 11  DICOM Code                     13 non-null     object \n",
      "dtypes: float64(4), object(8)\n",
      "memory usage: 7.2+ KB\n"
     ]
    }
   ],
   "source": [
    "# Reads the scp csv file with the category as index\n",
    "scp_df = pd.read_csv(ptb_dir+'scp_statements.csv', index_col=0)\n",
    "scp_df.info()"
   ]
  },
  {
   "cell_type": "code",
   "execution_count": 6,
   "metadata": {},
   "outputs": [
    {
     "data": {
      "text/html": [
       "<div>\n",
       "<style scoped>\n",
       "    .dataframe tbody tr th:only-of-type {\n",
       "        vertical-align: middle;\n",
       "    }\n",
       "\n",
       "    .dataframe tbody tr th {\n",
       "        vertical-align: top;\n",
       "    }\n",
       "\n",
       "    .dataframe thead th {\n",
       "        text-align: right;\n",
       "    }\n",
       "</style>\n",
       "<table border=\"1\" class=\"dataframe\">\n",
       "  <thead>\n",
       "    <tr style=\"text-align: right;\">\n",
       "      <th></th>\n",
       "      <th>scp_codes</th>\n",
       "      <th>strat_fold</th>\n",
       "      <th>filename_lr</th>\n",
       "      <th>result</th>\n",
       "    </tr>\n",
       "    <tr>\n",
       "      <th>ecg_id</th>\n",
       "      <th></th>\n",
       "      <th></th>\n",
       "      <th></th>\n",
       "      <th></th>\n",
       "    </tr>\n",
       "  </thead>\n",
       "  <tbody>\n",
       "    <tr>\n",
       "      <th>1</th>\n",
       "      <td>{'NORM': 100.0, 'LVOLT': 0.0, 'SR': 0.0}</td>\n",
       "      <td>3</td>\n",
       "      <td>records100/00000/00001_lr</td>\n",
       "      <td>[0, 0, 0, 0, 1, 0, 0, 0, 0, 0, 0, 0, 0, 0, 0, ...</td>\n",
       "    </tr>\n",
       "    <tr>\n",
       "      <th>2</th>\n",
       "      <td>{'NORM': 80.0, 'SBRAD': 0.0}</td>\n",
       "      <td>2</td>\n",
       "      <td>records100/00000/00002_lr</td>\n",
       "      <td>[0, 0, 0, 0, 1, 0, 0, 0, 0, 0, 0, 0, 0, 0, 0, ...</td>\n",
       "    </tr>\n",
       "    <tr>\n",
       "      <th>3</th>\n",
       "      <td>{'NORM': 100.0, 'SR': 0.0}</td>\n",
       "      <td>5</td>\n",
       "      <td>records100/00000/00003_lr</td>\n",
       "      <td>[0, 0, 0, 0, 1, 0, 0, 0, 0, 0, 0, 0, 0, 0, 0, ...</td>\n",
       "    </tr>\n",
       "    <tr>\n",
       "      <th>4</th>\n",
       "      <td>{'NORM': 100.0, 'SR': 0.0}</td>\n",
       "      <td>3</td>\n",
       "      <td>records100/00000/00004_lr</td>\n",
       "      <td>[0, 0, 0, 0, 1, 0, 0, 0, 0, 0, 0, 0, 0, 0, 0, ...</td>\n",
       "    </tr>\n",
       "    <tr>\n",
       "      <th>5</th>\n",
       "      <td>{'NORM': 100.0, 'SR': 0.0}</td>\n",
       "      <td>4</td>\n",
       "      <td>records100/00000/00005_lr</td>\n",
       "      <td>[0, 0, 0, 0, 1, 0, 0, 0, 0, 0, 0, 0, 0, 0, 0, ...</td>\n",
       "    </tr>\n",
       "  </tbody>\n",
       "</table>\n",
       "</div>"
      ],
      "text/plain": [
       "                                       scp_codes  strat_fold  \\\n",
       "ecg_id                                                         \n",
       "1       {'NORM': 100.0, 'LVOLT': 0.0, 'SR': 0.0}           3   \n",
       "2                   {'NORM': 80.0, 'SBRAD': 0.0}           2   \n",
       "3                     {'NORM': 100.0, 'SR': 0.0}           5   \n",
       "4                     {'NORM': 100.0, 'SR': 0.0}           3   \n",
       "5                     {'NORM': 100.0, 'SR': 0.0}           4   \n",
       "\n",
       "                      filename_lr  \\\n",
       "ecg_id                              \n",
       "1       records100/00000/00001_lr   \n",
       "2       records100/00000/00002_lr   \n",
       "3       records100/00000/00003_lr   \n",
       "4       records100/00000/00004_lr   \n",
       "5       records100/00000/00005_lr   \n",
       "\n",
       "                                                   result  \n",
       "ecg_id                                                     \n",
       "1       [0, 0, 0, 0, 1, 0, 0, 0, 0, 0, 0, 0, 0, 0, 0, ...  \n",
       "2       [0, 0, 0, 0, 1, 0, 0, 0, 0, 0, 0, 0, 0, 0, 0, ...  \n",
       "3       [0, 0, 0, 0, 1, 0, 0, 0, 0, 0, 0, 0, 0, 0, 0, ...  \n",
       "4       [0, 0, 0, 0, 1, 0, 0, 0, 0, 0, 0, 0, 0, 0, 0, ...  \n",
       "5       [0, 0, 0, 0, 1, 0, 0, 0, 0, 0, 0, 0, 0, 0, 0, ...  "
      ]
     },
     "execution_count": 6,
     "metadata": {},
     "output_type": "execute_result"
    }
   ],
   "source": [
    "# Convert json string as python object\n",
    "scp_codes = df[\"scp_codes\"].apply(lambda x : literal_eval(x))\n",
    "\n",
    "# How many scp categories are there\n",
    "scp_length = len(scp_df)\n",
    "\n",
    "def create_multilabel(scpc: dict):\n",
    "  # Create empty list with the length of scp\n",
    "  res = [ 0 for _ in range(scp_length) ]\n",
    "  \n",
    "  for x, y in scpc.items():\n",
    "    # If the confidence is below 50%, ditch it.\n",
    "    if (y > 50):\n",
    "      res[scp_df.index.get_loc(x)] = 1\n",
    "    \n",
    "  return res\n",
    "    \n",
    "# For every scp_codes in df, we will create a new mutlilabel 2d array\n",
    "# New column\n",
    "df[\"result\"] = scp_codes.apply(create_multilabel)\n",
    "df.head()"
   ]
  },
  {
   "cell_type": "code",
   "execution_count": 7,
   "metadata": {},
   "outputs": [
    {
     "name": "stdout",
     "output_type": "stream",
     "text": [
      "21837 21837\n"
     ]
    }
   ],
   "source": [
    "# Gets the X of the dataset\n",
    "Y = np.array(df[\"result\"].to_list()).astype(\"float32\")\n",
    "print(len(X), len(Y))"
   ]
  },
  {
   "cell_type": "code",
   "execution_count": 8,
   "metadata": {},
   "outputs": [
    {
     "name": "stdout",
     "output_type": "stream",
     "text": [
      "19634 19634 2203 2203\n"
     ]
    }
   ],
   "source": [
    "# Splits the dataset into training and testing based on the strat_fold\n",
    "# the dataset has graciously provided us\n",
    "\n",
    "# Select which fold we want to use\n",
    "test_fold = 10\n",
    "train_sel = df[\"strat_fold\"] != test_fold\n",
    "test_sel = df[\"strat_fold\"] == test_fold\n",
    "\n",
    "# Splits the data\n",
    "X_tr = X[np.where(train_sel)]\n",
    "Y_tr = Y[train_sel]\n",
    "X_te = X[np.where(test_sel)]\n",
    "Y_te = Y[test_sel]\n",
    "\n",
    "print(len(X_tr), len(Y_tr), len(X_te), len(Y_te))"
   ]
  },
  {
   "cell_type": "markdown",
   "metadata": {},
   "source": [
    "## From this point, we can do the model training"
   ]
  },
  {
   "cell_type": "code",
   "execution_count": 9,
   "metadata": {},
   "outputs": [],
   "source": [
    "# Install efficientnet lite keras\n",
    "# %pip install -q git+https://github.com/sebastian-sz/efficientnet-lite-keras@main"
   ]
  },
  {
   "cell_type": "code",
   "execution_count": 12,
   "metadata": {},
   "outputs": [],
   "source": [
    "# Load the model with tensorflow\n",
    "import tensorflow as tf\n",
    "\n",
    "# Models\n",
    "from models import efficient_net\n",
    "from Inception.inception import Classifier_INCEPTION as Inception\n",
    "import MiniRocket.minirocket_multivariate as MiniRocket\n",
    "from sklearn.linear_model import RidgeClassifierCV\n",
    "from sktime.classification.dictionary_based import BOSSEnsemble"
   ]
  },
  {
   "cell_type": "code",
   "execution_count": 12,
   "metadata": {},
   "outputs": [],
   "source": [
    "def fit_efficient():\n",
    "  \"\"\"Efficient Net model fitting\n",
    "  \"\"\"\n",
    "  model = efficient_net(scp_length)\n",
    "  \n",
    "  # Reshape the data so it can be inputted\n",
    "  X_tr_r = X_tr.reshape((len(X_tr), 100, 120))\n",
    "  X_te_r = X_te.reshape((len(X_te), 100, 120))\n",
    "  \n",
    "  model.fit(\n",
    "    X_tr_r,\n",
    "    Y_tr,\n",
    "    epochs=10,\n",
    "    batch_size=32,\n",
    "  )\n",
    "  \n",
    "  return model, X_te_r\n",
    "\n",
    "def fit_inception():\n",
    "  in_model = Inception(\n",
    "    \"/inceptionres\",\n",
    "    X.shape[1:],\n",
    "    scp_length,\n",
    "    batch_size=1000,\n",
    "    nb_epochs=10\n",
    "  )\n",
    "  model = in_model.model\n",
    "  model.fit(\n",
    "    X_tr,\n",
    "    Y_tr,\n",
    "    batch_size=1000,\n",
    "    epochs=10,\n",
    "    validation_split=0.1,\n",
    "    callbacks=[in_model.callbacks[0]], # Get only reduce learning rate\n",
    "  )\n",
    "  \n",
    "  return model\n",
    "\n",
    "def fit_mini_rocket(classifier=RidgeClassifierCV(alphas = np.logspace(-3, 3, 10), normalize = True)):\n",
    "  params = MiniRocket.fit(X_tr, scp_length)\n",
    "  X_tr_trans = MiniRocket.transform(X_tr, params)\n",
    "  \n",
    "  classifier.fit(X_tr_trans, Y_tr)\n",
    "  \n",
    "  return classifier, params\n",
    "\n",
    "def fit_boss_ens():\n",
    "  classifier = BOSSEnsemble(max_ensemble_size=5)\n",
    "  classifier.fit(X_tr, Y_tr)\n",
    "  return classifier"
   ]
  },
  {
   "cell_type": "code",
   "execution_count": 13,
   "metadata": {},
   "outputs": [
    {
     "name": "stdout",
     "output_type": "stream",
     "text": [
      "Epoch 1/10\n"
     ]
    }
   ],
   "source": [
    "model = fit_mini_rocket()"
   ]
  },
  {
   "cell_type": "code",
   "execution_count": 31,
   "metadata": {},
   "outputs": [
    {
     "data": {
      "text/plain": [
       "1.0"
      ]
     },
     "execution_count": 31,
     "metadata": {},
     "output_type": "execute_result"
    }
   ],
   "source": [
    "# acc = tf.keras.metrics.Accuracy()\n",
    "# acc.update_state([Y_te], [result])\n",
    "# acc.result().numpy()"
   ]
  }
 ],
 "metadata": {
  "interpreter": {
   "hash": "2e646dbaa4b8076e76891b51135a1b213fdcfef07d664c773c9a5d1d6f83d144"
  },
  "kernelspec": {
   "display_name": "Python 3.8.1 64-bit (system)",
   "language": "python",
   "name": "python3"
  },
  "language_info": {
   "codemirror_mode": {
    "name": "ipython",
    "version": 3
   },
   "file_extension": ".py",
   "mimetype": "text/x-python",
   "name": "python",
   "nbconvert_exporter": "python",
   "pygments_lexer": "ipython3",
   "version": "3.8.1"
  },
  "orig_nbformat": 4
 },
 "nbformat": 4,
 "nbformat_minor": 2
}
