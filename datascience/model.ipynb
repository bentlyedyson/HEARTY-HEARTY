{
 "cells": [
  {
   "cell_type": "markdown",
   "metadata": {},
   "source": [
    "This notebook is responsible for the training of the prediction of the SCP\n",
    "codes model."
   ]
  },
  {
   "cell_type": "code",
   "execution_count": 25,
   "metadata": {},
   "outputs": [],
   "source": [
    "import pandas as pd\n",
    "import numpy as np\n",
    "import wfdb\n",
    "import json"
   ]
  },
  {
   "cell_type": "markdown",
   "metadata": {},
   "source": [
    "This dataset already includes a \"strat_fold\" column, already created by the\n",
    "authors so the training data is already chosen by the authors and not randomly\n",
    "and produce unwanted biases"
   ]
  },
  {
   "cell_type": "code",
   "execution_count": 26,
   "metadata": {},
   "outputs": [
    {
     "name": "stdout",
     "output_type": "stream",
     "text": [
      "<class 'pandas.core.frame.DataFrame'>\n",
      "Int64Index: 21837 entries, 1 to 21837\n",
      "Data columns (total 3 columns):\n",
      " #   Column       Non-Null Count  Dtype \n",
      "---  ------       --------------  ----- \n",
      " 0   scp_codes    21837 non-null  object\n",
      " 1   strat_fold   21837 non-null  int64 \n",
      " 2   filename_lr  21837 non-null  object\n",
      "dtypes: int64(1), object(2)\n",
      "memory usage: 682.4+ KB\n"
     ]
    }
   ],
   "source": [
    "# Dataset directory\n",
    "ptb_dir = \"ptb-xl-a-large-publicly-available-electrocardiography-dataset-1.0.1/\"\n",
    "\n",
    "# Whether to use the high or low resolution dataset\n",
    "lowres = True\n",
    "filetype = \"filename_\" + (\"lr\" if lowres else \"hr\")\n",
    "\n",
    "# Loads the dataset with only the scp codes, strat fold and the filename\n",
    "df = pd.read_csv(ptb_dir+\"ptbxl_database.csv\", index_col=[\"ecg_id\"], usecols=[\"ecg_id\", \"scp_codes\", \"strat_fold\", filetype])\n",
    "df.info()"
   ]
  },
  {
   "cell_type": "code",
   "execution_count": 28,
   "metadata": {},
   "outputs": [],
   "source": [
    "def load_waveforms():\n",
    "  \"\"\"Loads the low or high resolution waveform data according to the `lowres`\n",
    "  variable. The function iterates through the dataset and reads every file with\n",
    "  rdsamp. Rdsamp returns a tuple (signal, meta), therefore to get the signal,\n",
    "  [0] is needed after the function\n",
    "\n",
    "  Returns:\n",
    "      array: array of array with a dimension of `12x10*frequency` (100Hz / 500Hz\n",
    "      depending on `lowres` variable)\n",
    "  \"\"\"\n",
    "  return [ wfdb.rdsamp(ptb_dir+f)[0] for f in df[filetype] ]\n",
    "\n",
    "# Loads all the waveform data\n",
    "X = load_waveforms()"
   ]
  },
  {
   "cell_type": "code",
   "execution_count": null,
   "metadata": {},
   "outputs": [],
   "source": [
    "Y = 5"
   ]
  }
 ],
 "metadata": {
  "interpreter": {
   "hash": "2e646dbaa4b8076e76891b51135a1b213fdcfef07d664c773c9a5d1d6f83d144"
  },
  "kernelspec": {
   "display_name": "Python 3.8.1 64-bit (system)",
   "language": "python",
   "name": "python3"
  },
  "language_info": {
   "codemirror_mode": {
    "name": "ipython",
    "version": 3
   },
   "file_extension": ".py",
   "mimetype": "text/x-python",
   "name": "python",
   "nbconvert_exporter": "python",
   "pygments_lexer": "ipython3",
   "version": "3.8.1"
  },
  "orig_nbformat": 4
 },
 "nbformat": 4,
 "nbformat_minor": 2
}
